{
 "cells": [
  {
   "cell_type": "markdown",
   "metadata": {},
   "source": [
    "# This is to pull data from the Carbitrage GBQ processed table"
   ]
  },
  {
   "cell_type": "code",
   "execution_count": 1,
   "metadata": {},
   "outputs": [],
   "source": [
    "from google.cloud import bigquery\n",
    "import sqlite3\n",
    "import os\n",
    "\n",
    "def fetch_data_from_gbq(query, project_id):\n",
    "    client = bigquery.Client(project=\"umt-msba\")\n",
    "    query_job = client.query(query)\n",
    "    results = query_job.result()\n",
    "    return results\n",
    "\n",
    "def store_data_in_db(data, db_path, table_name):\n",
    "    conn = sqlite3.connect(db_path)\n",
    "    cursor = conn.cursor()\n",
    "    \n",
    "    # Convert iterator to list so we can use it multiple times\n",
    "    data_list = list(data)\n",
    "    \n",
    "    if not data_list:\n",
    "        print(\"No data returned from BigQuery.\")\n",
    "        conn.close()\n",
    "        return\n",
    "    \n",
    "    # Get schema from the first row\n",
    "    first_row = data_list[0]\n",
    "    schema = list(first_row.keys())\n",
    "    \n",
    "    # Create table with dynamic columns\n",
    "    columns = \", \".join([f\"{col} TEXT\" for col in schema])\n",
    "    cursor.execute(f\"\"\"\n",
    "        CREATE TABLE IF NOT EXISTS {table_name} (\n",
    "            {columns}\n",
    "        )\n",
    "    \"\"\")\n",
    "    \n",
    "    # Insert all data (including first row)\n",
    "    placeholders = ','.join(['?' for _ in range(len(schema))])\n",
    "    for row in data_list:\n",
    "        cursor.execute(f\"INSERT INTO {table_name} VALUES ({placeholders})\", tuple(row.values()))\n",
    "    \n",
    "    conn.commit()\n",
    "    conn.close()\n",
    "\n",
    "\n"
   ]
  },
  {
   "cell_type": "code",
   "execution_count": 2,
   "metadata": {},
   "outputs": [],
   "source": [
    "gbq_query = \"SELECT * FROM umt-msba.carbitrage.processed_listing_pages\"\n",
    "project_id = \"your_project_id\"\n",
    "db_path = \"./data/carbitrage.db\"\n",
    "table_name = \"carbitrage_table\"\n",
    "\n"
   ]
  },
  {
   "cell_type": "code",
   "execution_count": null,
   "metadata": {},
   "outputs": [],
   "source": []
  },
  {
   "cell_type": "code",
   "execution_count": 3,
   "metadata": {},
   "outputs": [],
   "source": [
    "# Add this before connecting to the database\n",
    "os.makedirs(os.path.dirname(db_path), exist_ok=True)\n",
    "\n"
   ]
  },
  {
   "cell_type": "code",
   "execution_count": 4,
   "metadata": {},
   "outputs": [],
   "source": [
    "data = fetch_data_from_gbq(gbq_query, project_id)\n",
    "\n"
   ]
  },
  {
   "cell_type": "code",
   "execution_count": null,
   "metadata": {},
   "outputs": [],
   "source": []
  },
  {
   "cell_type": "code",
   "execution_count": 5,
   "metadata": {},
   "outputs": [
    {
     "name": "stderr",
     "output_type": "stream",
     "text": [
      "C:\\Users\\justi\\AppData\\Local\\Temp\\ipykernel_15924\\2066842185.py:38: DeprecationWarning: The default datetime adapter is deprecated as of Python 3.12; see the sqlite3 documentation for suggested replacement recipes\n",
      "  cursor.execute(f\"INSERT INTO {table_name} VALUES ({placeholders})\", tuple(row.values()))\n"
     ]
    }
   ],
   "source": [
    "store_data_in_db(data, db_path, table_name)"
   ]
  }
 ],
 "metadata": {
  "kernelspec": {
   "display_name": "Python 3",
   "language": "python",
   "name": "python3"
  },
  "language_info": {
   "codemirror_mode": {
    "name": "ipython",
    "version": 3
   },
   "file_extension": ".py",
   "mimetype": "text/x-python",
   "name": "python",
   "nbconvert_exporter": "python",
   "pygments_lexer": "ipython3",
   "version": "3.12.5"
  }
 },
 "nbformat": 4,
 "nbformat_minor": 2
}
