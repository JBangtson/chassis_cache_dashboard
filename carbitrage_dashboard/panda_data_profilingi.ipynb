{
 "cells": [
  {
   "cell_type": "code",
   "execution_count": 1,
   "metadata": {},
   "outputs": [],
   "source": [
    "import pandas as pd\n",
    "from ydata_profiling import ProfileReport\n",
    "import sqlite3\n",
    "\n",
    "# Assuming you have a function to query the database and return a DataFrame\n",
    "def create_database_connection():\n",
    "    \"\"\"Create and return a database connection.\"\"\"\n",
    "    connection = sqlite3.connect(r'F:\\Portfolio_Website\\data\\carbitrage.db')  # Update with your database details\n",
    "    return connection\n",
    "\n",
    "def read_db_as_df(query, params=None):\n",
    "    \"\"\"Execute the SQL query and return the result as a pandas DataFrame.\"\"\"\n",
    "    with create_database_connection() as connection:  # Use a context manager for the connection\n",
    "        return pd.read_sql(query, connection, params=params)\n",
    "\n",
    "\n",
    "query = \"\"\"\n",
    "            SELECT location, CAST(price AS FLOAT) AS price, CAST(odometer AS FLOAT) AS odometer, CAST(year AS FLOAT) AS year, CAST(longitude AS FLOAT) AS long, CAST(latitude AS FLOAT) AS lat, make, title, CAST(predicted_price AS FLOAT) AS predicted_price, CAST(residual AS FLOAT) AS residual, time_posted, condition, url, state, model, paint, fuel, drive, type, transmission\n",
    "            FROM carbitrage_table\n",
    "        \"\"\"\n",
    "\n",
    "\n",
    "\n",
    "profile = ProfileReport(read_db_as_df(query), title=\"Carbitrage_Profile\", explorative=True)\n",
    "\n"
   ]
  },
  {
   "cell_type": "code",
   "execution_count": 2,
   "metadata": {},
   "outputs": [
    {
     "data": {
      "application/vnd.jupyter.widget-view+json": {
       "model_id": "eab0654962004e4e9bf8cc17024f6c11",
       "version_major": 2,
       "version_minor": 0
      },
      "text/plain": [
       "Summarize dataset:   0%|          | 0/5 [00:00<?, ?it/s]"
      ]
     },
     "metadata": {},
     "output_type": "display_data"
    },
    {
     "data": {
      "application/vnd.jupyter.widget-view+json": {
       "model_id": "4c6c4278d1c0471180afd77f3bb70001",
       "version_major": 2,
       "version_minor": 0
      },
      "text/plain": [
       "Generate report structure:   0%|          | 0/1 [00:00<?, ?it/s]"
      ]
     },
     "metadata": {},
     "output_type": "display_data"
    },
    {
     "data": {
      "application/vnd.jupyter.widget-view+json": {
       "model_id": "5a6efc22a6b44f568155ced4844520dc",
       "version_major": 2,
       "version_minor": 0
      },
      "text/plain": [
       "Render HTML:   0%|          | 0/1 [00:00<?, ?it/s]"
      ]
     },
     "metadata": {},
     "output_type": "display_data"
    },
    {
     "data": {
      "application/vnd.jupyter.widget-view+json": {
       "model_id": "72a2acca6091435f8a8bd38b77777899",
       "version_major": 2,
       "version_minor": 0
      },
      "text/plain": [
       "Export report to file:   0%|          | 0/1 [00:00<?, ?it/s]"
      ]
     },
     "metadata": {},
     "output_type": "display_data"
    }
   ],
   "source": [
    "profile.to_file(r\"F:\\Portfolio_Website\\public\\test_report.html\")"
   ]
  }
 ],
 "metadata": {
  "kernelspec": {
   "display_name": "Python 3",
   "language": "python",
   "name": "python3"
  },
  "language_info": {
   "codemirror_mode": {
    "name": "ipython",
    "version": 3
   },
   "file_extension": ".py",
   "mimetype": "text/x-python",
   "name": "python",
   "nbconvert_exporter": "python",
   "pygments_lexer": "ipython3",
   "version": "3.12.5"
  }
 },
 "nbformat": 4,
 "nbformat_minor": 2
}
